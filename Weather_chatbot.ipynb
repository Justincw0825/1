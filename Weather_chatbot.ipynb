{
 "cells": [
  {
   "cell_type": "code",
   "execution_count": 11,
   "metadata": {},
   "outputs": [
    {
     "name": "stdout",
     "output_type": "stream",
     "text": [
      "█\r"
     ]
    },
    {
     "name": "stderr",
     "output_type": "stream",
     "text": [
      "Getting uuid of QR code.\n",
      "Downloading QR code.\n",
      "Please scan the QR code to log in.\n",
      "Please press confirm on your phone.\n",
      "Loading the contact, this may take a little while.\n",
      "Login successfully as 武神\n"
     ]
    }
   ],
   "source": [
    "#Log in the wechat bot\n",
    "from wxpy import * \n",
    "bot = Bot()"
   ]
  },
  {
   "cell_type": "code",
   "execution_count": 49,
   "metadata": {},
   "outputs": [
    {
     "data": {
      "text/plain": [
       "<Friend: 文采风华>"
      ]
     },
     "execution_count": 49,
     "metadata": {},
     "output_type": "execute_result"
    }
   ],
   "source": [
    "#Find a friend named ###\n",
    "a = bot.friends().search(\"###\")[0]\n",
    "a.send(\"Weather chatbot is up here\")"
   ]
  },
  {
   "cell_type": "code",
   "execution_count": 2,
   "metadata": {},
   "outputs": [],
   "source": [
    "#define the current_weather to get the data about weather from certain website\n",
    "import requests\n",
    "def current_weather(city):\n",
    "    \n",
    "    url = \"https://community-open-weather-map.p.rapidapi.com/weather\"\n",
    "\n",
    "    querystring = {\"callback\":\"test\",\"id\":\"2172797\",\"units\":\"\\\"metric\\\" or \\\"imperial\\\"\",\"mode\":\"xml, html\",\"q\":\"London,uk\"}\n",
    "    \n",
    "    querystring['q'] = city\n",
    "    \n",
    "    headers = {\n",
    "        'x-rapidapi-host': \"community-open-weather-map.p.rapidapi.com\",\n",
    "        'x-rapidapi-key': \"84db939702msh3255af9f5bf635dp177c06jsn84d6de59e9ba\"\n",
    "        }\n",
    "\n",
    "    response = requests.request(\"GET\", url, headers=headers, params=querystring)\n",
    "    response1=response.text\n",
    "    s=response1[4:]\n",
    "    b=eval(s)\n",
    "    return [b['name'],b['weather'][0]['description'],b['wind']['speed']]"
   ]
  },
  {
   "cell_type": "code",
   "execution_count": 3,
   "metadata": {},
   "outputs": [],
   "source": [
    "#define the temperature_search to get the data about weather from certain website\n",
    "def temperature_search(city):\n",
    "    url = \"https://community-open-weather-map.p.rapidapi.com/weather\"\n",
    "\n",
    "    querystring = {\"callback\":\"test\",\"id\":\"2172797\",\"units\":\"\\\"metric\\\" or \\\"imperial\\\"\",\"mode\":\"xml, html\",\"q\":\"London,uk\"}\n",
    "    \n",
    "    querystring['q'] = city\n",
    "    \n",
    "    headers = {\n",
    "        'x-rapidapi-host': \"community-open-weather-map.p.rapidapi.com\",\n",
    "        'x-rapidapi-key': \"84db939702msh3255af9f5bf635dp177c06jsn84d6de59e9ba\"\n",
    "        }\n",
    "\n",
    "    response = requests.request(\"GET\", url, headers=headers, params=querystring)\n",
    "    response1=response.text\n",
    "    s=response1[4:]\n",
    "    b=eval(s)\n",
    "    return [b['name'],\"%.2f\"%(b['main']['temp_max']-273.15),\"%.2f\"%(b['main']['temp_min']-273.15),\"%.2f\"%(b['main']['temp']-273.15)]"
   ]
  },
  {
   "cell_type": "code",
   "execution_count": 4,
   "metadata": {},
   "outputs": [],
   "source": [
    "#define the weather_forecast to get the data about weather from certain website\n",
    "def weather_forecast(city):\n",
    "    \n",
    "    url = \"https://community-open-weather-map.p.rapidapi.com/forecast\"\n",
    "\n",
    "    querystring = {\"q\":\"london,uk\"}\n",
    "    \n",
    "    querystring['q'] = city\n",
    "\n",
    "    headers = {\n",
    "        'x-rapidapi-host': \"community-open-weather-map.p.rapidapi.com\",\n",
    "        'x-rapidapi-key': \"84db939702msh3255af9f5bf635dp177c06jsn84d6de59e9ba\"\n",
    "        }\n",
    "\n",
    "    response = requests.request(\"GET\", url, headers=headers, params=querystring)\n",
    "    response1=response.text\n",
    "    b=eval(response1)\n",
    "    for i in b['list'][4:10]:\n",
    "        str=\"The weather in {} at {} is mainly {}\".format(b['city']['name'],i['dt_txt'],i['weather'][0]['description'])\n",
    "        print(\"BOT:{}\".format(str))"
   ]
  },
  {
   "cell_type": "code",
   "execution_count": 5,
   "metadata": {},
   "outputs": [],
   "source": [
    "def forecast(city):\n",
    "    m = weather_forecast(city)\n",
    "    for i in m['list'][4:10]:\n",
    "        str=\"The weather in {} at {} is mainly {}\".format(m['city']['name'],i['dt_txt'],i['weather'][0]['description'])\n",
    "        print(\"BOT:{}\".format(str))"
   ]
  },
  {
   "cell_type": "code",
   "execution_count": 28,
   "metadata": {},
   "outputs": [
    {
     "name": "stdout",
     "output_type": "stream",
     "text": [
      "Fitting 2 folds for each of 6 candidates, totalling 12 fits\n"
     ]
    },
    {
     "name": "stderr",
     "output_type": "stream",
     "text": [
      "[Parallel(n_jobs=1)]: Using backend SequentialBackend with 1 concurrent workers.\n",
      "[Parallel(n_jobs=1)]: Done  12 out of  12 | elapsed:    0.5s finished\n"
     ]
    }
   ],
   "source": [
    "# Import necessary modules\n",
    "from rasa_nlu.training_data import load_data\n",
    "from rasa_nlu.config import RasaNLUModelConfig\n",
    "from rasa_nlu.model import Trainer\n",
    "from rasa_nlu import config\n",
    "\n",
    "# Create a trainer that uses this config\n",
    "trainer = Trainer(config.load(\"/home/jcw/rasa_nlu/sample_configs/config_spacy.yml\"))\n",
    "\n",
    "# Load the training data\n",
    "training_data = load_data('/home/jcw/rasa_nlu/data/examples/rasa/weather-rasa.json')\n",
    "\n",
    "# Create an interpreter by training the model\n",
    "interpreter = trainer.train(training_data)"
   ]
  },
  {
   "cell_type": "code",
   "execution_count": 25,
   "metadata": {},
   "outputs": [],
   "source": [
    "#Define the states\n",
    "INIT=0\n",
    "AUTHED=1\n",
    "ASK_ABOUT_WEATHER=2\n",
    "# Define the policy rules\n",
    "policy_rules = {\n",
    "    (INIT,\"none\"):[(INIT, \"you'll have to log in first, what's your phone number?\", AUTHED)],\n",
    "    (AUTHED,\"none\"):[(AUTHED,\"what do you mean?\",None),(AUTHED,\"Sorry, I can't help you.\",None),(AUTHED,\"You can ask me something about weather.\",None)],\n",
    "    (ASK_ABOUT_WEATHER,\"none\"):[(ASK_ABOUT_WEATHER,\"what do you mean?\",None),(ASK_ABOUT_WEATHER,\"Sorry, I can't help you\",None),(ASK_ABOUT_WEATHER,\"You can ask me something about weather.\",None)],\n",
    "    (INIT,\"ask_explanation\"):[(INIT, \"I'm a clever weather robot and I can provide you with a lot of data about weather, also, I can tell you the temperature of any city.\", None)],\n",
    "    (AUTHED,\"ask_explanation\"):[(AUTHED, \"I'm a clever weather bot and I can provide you with a lot of data about weather, also, I can tell you the temperature of any city.\", None)],\n",
    "    (ASK_ABOUT_WEATHER,\"ask_explanation\"):[(ASK_ABOUT_WEATHER, \"I'm a clever weather bot and I can provide you with a lot of data about weather, also, I can tell you the temperature of any city.\", None)],\n",
    "    (INIT,\"ask_usage\"):[(INIT, \"1.I can search weather for you. Try to ask me in this way:\\nI want to know the current weather in Wuhan\\nor\\nTell me the weather in wuhan tomorrow.\\n2.I can tell you the temperature of any city,but you have to tell me where do you want to search.\", None)],\n",
    "    (AUTHED,\"ask_usage\"):[(AUTHED,  \"1.I can search weather for you. Try to ask me in this way:\\nI want to know the current weather in Wuhan\\nor\\nTell me the weather in wuhan tomorrow.\\n2.I can tell you the temperature of any city,but you have to tell me where do you want to search.\", None)],\n",
    "    (ASK_ABOUT_WEATHER,\"ask_usage\"):[(ASK_ABOUT_WEATHER, \"1.I can search weather for you. Try to ask me in this way:\\nI want to know the current weather in Wuhan\\nor\\nTell me the weather in wuhan tomorrow.\\n2.I can tell you the temperature of any city,but you have to tell me where do you want to search.\", None)],\n",
    "    (INIT, \"number\"):[(AUTHED, \"perfect, welcome back!\", None)],\n",
    "    (AUTHED,\"number\"):[(AUTHED,\"Sorry, I can't help you.\",None),(AUTHED,\"You can ask me something about weather.\",None)],\n",
    "    (ASK_ABOUT_WEATHER,\"number\"):[(ASK_ABOUT_WEATHER,\"Sorry, I can't help you.\",None),(AUTHED,\"You can ask me something about weather.\",None)],\n",
    "    (INIT, \"number\"):[(AUTHED, \"perfect, welcome back!\", None)],\n",
    "    (AUTHED,\"number\"):[(AUTHED,\"Sorry, I can't help you.\",None),(AUTHED,\"You can ask me something about weather.\",None)],\n",
    "    (ASK_ABOUT_WEATHER,\"number\"):[(ASK_ABOUT_WEATHER,\"Sorry, I can't help you.\",None),(AUTHED,\"You can ask me something about weather.\",None)],\n",
    "    (INIT, \"service_require\"):[(INIT, \"I can help you, but you have to log in first, so what's your phone number?\", None)],\n",
    "    (AUTHED,\"service_require\"):[(AUTHED, \"Well, please tell me exactly what do you want to search?\", None)],\n",
    "    (ASK_ABOUT_WEATHER,\"service_require\"):[(ASK_ABOUT_WEATHER,\"Well, please tell me exactly what do you want to search?\",None)],    \n",
    "    (INIT, \"current_weather\"):[(INIT, \"you'll have to log in first, what's your phone number?\", AUTHED)],\n",
    "    (INIT, \"weather_forecast\"):[(INIT, \"you'll have to log in first, what's your phone number?\", AUTHED)],\n",
    "    (INIT, \"temperature_search\"):[(INIT, \"you'll have to log in first, what's your phone number?\", AUTHED)],\n",
    "    (AUTHED,\"current_weather\"):[(ASK_ABOUT_WEATHER, \"OK, The current weather in {} is mainly {}, with the force-{} wind.\", None)],\n",
    "    (ASK_ABOUT_WEATHER,\"current_weather\"):[(ASK_ABOUT_WEATHER,\"OK, The current weather in {} is mainly {}, with the force-{} wind.\",None)],    \n",
    "    (AUTHED,\"current_weather\"):[(ASK_ABOUT_WEATHER, \"OK, The current weather in {} is mainly {}, with the force-{} wind.\", None)],\n",
    "    (ASK_ABOUT_WEATHER,\"current_weather\"):[(ASK_ABOUT_WEATHER,\"OK, The current weather in {} is mainly {}, with the force-{} wind.\",None)], \n",
    "    (AUTHED,\"weather_forecast\"):[(ASK_ABOUT_WEATHER, \"n\", None)],\n",
    "    (ASK_ABOUT_WEATHER,\"weather_forecast\"):[(ASK_ABOUT_WEATHER,\"n\",None)], \n",
    "    (AUTHED,\"temperature_search\"):[(ASK_ABOUT_WEATHER, \"In {}, the max temperature is {}℃, the min temperature is {}℃ and the average temperature is {}℃.\", None)],\n",
    "    (ASK_ABOUT_WEATHER,\"temperature_search\"):[(ASK_ABOUT_WEATHER,\"In {}, the max temperature is {}℃, the min temperature is {}℃ and the average temperature is {}℃.\", None)],\n",
    "    (INIT, \"goodbye\"):[(INIT,\"goodbye!\",None),(INIT,\"See you next time!\",None)],\n",
    "    (AUTHED,\"goodbye\"):[(INIT,\"goodbye!\",None),(INIT,\"See you next time!\",None)],\n",
    "    (ASK_ABOUT_WEATHER,\"goodbye\"):[(INIT,\"goodbye!\",None),(INIT,\"See you next time!\",None)],\n",
    "    (INIT, \"greet\"):[(INIT,\"Hello!\",None),(INIT,\"I,m glad to see you.\",None),(INIT,\"Hi!\",None),(INIT,\"Welcome here!\",None)],\n",
    "    (AUTHED,\"greet\"):[(AUTHED,\"Hello!\",None),(AUTHED,\"I,m glad to see you.\",None),(AUTHED,\"Hi!\",None),(AUTHED,\"Welcome here!\",None)],\n",
    "    (ASK_ABOUT_WEATHER,\"greet\"):[(ASK_ABOUT_WEATHER,\"Hello!\",None),(ASK_ABOUT_WEATHER,\"I,m glad to see you.\",None),(ASK_ABOUT_WEATHER,\"Hi!\",None),(ASK_ABOUT_WEATHER,\"Welcome here!\",None)],\n",
    "    (INIT, \"affirm\"):[(INIT,\"Really?\",None),(INIT,\"But I haven't helped you yet.\",None)],\n",
    "    (AUTHED,\"affirm\"):[(AUTHED,\"Thanks for your affirmation!\",None),(AUTHED,\"I,m glad to hear that!\",None),(AUTHED,\"Yeah!\",None)],\n",
    "    (ASK_ABOUT_WEATHER,\"affirm\"):[(ASK_ABOUT_WEATHER,\"Thanks for your affirmation!\",None),(ASK_ABOUT_WEATHER,\"I,m glad to hear that!\",None),(ASK_ABOUT_WEATHER,\"Yeah!\",None)]\n",
    "}"
   ]
  },
  {
   "cell_type": "code",
   "execution_count": 8,
   "metadata": {},
   "outputs": [],
   "source": [
    "#recognise the intent\n",
    "import string\n",
    "\n",
    "def interpret(message):\n",
    "    msg = message.lower()\n",
    "    if any([d in msg for d in string.digits]):\n",
    "        return 'number'\n",
    "    else:\n",
    "        intent = interpreter.parse(msg)[\"intent\"][\"name\"]\n",
    "        if intent is '':\n",
    "            return 'none'\n",
    "        else:\n",
    "            return intent"
   ]
  },
  {
   "cell_type": "code",
   "execution_count": 9,
   "metadata": {},
   "outputs": [],
   "source": [
    "# Define chitchat_response()\n",
    "def chitchat_response(message):\n",
    "    # Call match_rule()\n",
    "    response, phrase = match_rule(rules, message)\n",
    "    # Return none if response is \"default\"\n",
    "    if response == \"default\":\n",
    "        return None\n",
    "    if '{0}' in response:\n",
    "        # Replace the pronouns of phrase\n",
    "        phrase = replace_pronouns(phrase)\n",
    "        # Calculate the response\n",
    "        response = response.format(phrase)\n",
    "    return response"
   ]
  },
  {
   "cell_type": "code",
   "execution_count": 10,
   "metadata": {},
   "outputs": [],
   "source": [
    "#to respond to some daily dialogue\n",
    "import re\n",
    "import random\n",
    "\n",
    "def match_rule(rules, message):\n",
    "    for pattern, responses in rules.items():\n",
    "        match = re.search(pattern, message)\n",
    "        if match is not None:\n",
    "            response = random.choice(responses)\n",
    "            var = match.group(1) if '{0}' in response else None\n",
    "            return response, var\n",
    "    return \"default\", None\n",
    "\n",
    "rules = {'if (.*)': [\"Do you really think it's likely that {0}\", \n",
    "                     'Do you wish that {0}', \n",
    "                     'What do you think about {0}', \n",
    "                     'Really--if {0}'], \n",
    "         'do you think (.*)': ['if {0}? Absolutely.', \n",
    "                               'No chance'],\n",
    "         'do you remember (.*)': ['Did you think I would forget {0}',\n",
    "                                  \"Why haven't you been able to forget {0}\",\n",
    "                                  'What about {0}', \n",
    "                                  'Yes .. and?'],\n",
    "         'I\\'m (.*)|my name is(.*)':['Nice to meet you, {0}','Hello, {0}','I\\'m glad to see you, {0}']\n",
    "        }\n",
    "\n",
    "def replace_pronouns(message):\n",
    "\n",
    "    message = message.lower()\n",
    "    if 'me' in message:\n",
    "        return re.sub('me', 'you', message)\n",
    "    if 'i' in message:\n",
    "        return re.sub('i', 'you', message)\n",
    "    elif 'my' in message:\n",
    "        return re.sub('my', 'your', message)\n",
    "    elif 'your' in message:\n",
    "        return re.sub('your', 'my', message)\n",
    "    elif 'you' in message:\n",
    "        return re.sub('you', 'me', message)\n",
    "\n",
    "    return message"
   ]
  },
  {
   "cell_type": "code",
   "execution_count": 11,
   "metadata": {},
   "outputs": [
    {
     "name": "stdout",
     "output_type": "stream",
     "text": [
      "USER : Hello\n",
      "Hi!\n",
      "USER : I'm jcw\n",
      "I'm glad to see you, jcw\n",
      "USER : 555-12345\n",
      "perfect, welcome back!\n"
     ]
    }
   ],
   "source": [
    "state = INIT\n",
    "pending = None\n",
    "import random\n",
    "# Define send_message()\n",
    "def send_message(state, pending, message,answer):\n",
    "    print(\"USER : {}\".format(message))\n",
    "    response = chitchat_response(message)\n",
    "    if response is not None:\n",
    "        answer=response\n",
    "        print(answer)\n",
    "        return state, None, answer\n",
    "    \n",
    "    # Calculate the new_state, response, and pending_state\n",
    "    new_state, response, pending_state = random.choice(policy_rules[(state, interpret(message))])\n",
    "    if interpret(message) == 'current_weather':\n",
    "        city=interpreter.parse(message)['entities'][0]['value']\n",
    "        (a,b,c)=(current_weather(city)[0],current_weather(city)[1],current_weather(city)[2])\n",
    "        answer=response.format(a,b,c)\n",
    "    elif interpret(message) == 'weather_forecast':\n",
    "        city=interpreter.parse(message)['entities'][0]['value']\n",
    "        answer=weather_forecast(city)\n",
    "    elif interpret(message) == 'temperature_search':\n",
    "        city=interpreter.parse(message)['entities'][0]['value']\n",
    "        (a,b,c,d)=(temperature_search(city)[0],temperature_search(city)[1],temperature_search(city)[2],temperature_search(city)[3])\n",
    "        answer=response.format(a,b,c,d)\n",
    "    else:\n",
    "        answer=response\n",
    "    \n",
    "    if pending is not None and new_state == pending[0]:\n",
    "        new_state, response, pending_state = random.choice(policy_rules[pending])\n",
    "        answer=response    \n",
    "        print(answer) \n",
    "    if pending_state is not None:\n",
    "        pending = (pending_state, interpret(message))\n",
    "    print(answer)\n",
    "    return new_state, pending, answer"
   ]
  },
  {
   "cell_type": "code",
   "execution_count": 50,
   "metadata": {},
   "outputs": [
    {
     "name": "stdout",
     "output_type": "stream",
     "text": [
      "USER : hello\n",
      "Hi!\n",
      "USER : I'm jcw\n",
      "I'm glad to see you, jcw\n",
      "USER : Who are you\n",
      "I'm a clever weather robot and I can provide you with a lot of data about weather, also, I can tell you the temperature of any city.\n",
      "USER : What's your usage\n",
      "1.I can search weather for you. Try to ask me in this way:\n",
      "I want to know the current weather in Wuhan\n",
      "or\n",
      "Tell me the weather in wuhan tomorrow.\n",
      "2.I can tell you the temperature of any city,but you have to tell me where do you want to search.\n",
      "USER : 555-12345\n",
      "perfect, welcome back!\n",
      "USER : What kind of girl do you like\n",
      "I,m glad to hear that!\n",
      "USER : Really?\n",
      "Yeah!\n",
      "USER : Good~\n",
      "USER : Tell me your girl friend's name\n",
      "Thanks for your affirmation!\n",
      "USER : Haha, don't mind, don't mind!\n",
      "Thanks for your affirmation!\n",
      "USER : 好了\n",
      "USER : 不搞了\n",
      "USER : None\n",
      "USER : None\n"
     ]
    }
   ],
   "source": [
    "@bot.register(a)\n",
    "def auto_reply(msg):\n",
    "    state = INIT\n",
    "    pending = None\n",
    "    answer = 0\n",
    "    state, pending, answer = send_message(state, pending, msg.text, answer)\n",
    "    return answer"
   ]
  }
 ],
 "metadata": {
  "kernelspec": {
   "display_name": "Python 3",
   "language": "python",
   "name": "python3"
  },
  "language_info": {
   "codemirror_mode": {
    "name": "ipython",
    "version": 3
   },
   "file_extension": ".py",
   "mimetype": "text/x-python",
   "name": "python",
   "nbconvert_exporter": "python",
   "pygments_lexer": "ipython3",
   "version": "3.6.7"
  }
 },
 "nbformat": 4,
 "nbformat_minor": 2
}
